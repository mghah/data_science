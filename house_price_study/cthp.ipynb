{
 "cells": [
  {
   "cell_type": "markdown",
   "metadata": {},
   "source": [
    "# Are houses in college towns more recession proof?\n",
    "#### Mo Ghahramani\n",
    "\n",
    "\n",
    "I study the effect of recession on the average value of houses in college towns in United States. \n",
    "More specifically, I try to answer, with high confidence, whether houses in college towns hold their value better than those outside college town during a recession. \n",
    "\n",
    "To compare the house prices between the two groups, I define a parameter called \"Price Ratio\" which is the mean value of houses the quarter before the recession starts divided by mean value of houses at recession bottom. The mean \"Price Ratio\" is then compared for the two groups using a statistical two sample t-test to draw conclusion.\n",
    "\n",
    "Price Ratio = value of house before recession / value of house at recession bottom\n",
    "\n",
    "1 means no change\n",
    "\n",
    "$>$1 means house lost value (BAD!)\n",
    "\n",
    "$<$1 means house gained value)\n",
    "\n",
    "Data:\n",
    "* From [Zillow research data site,](http://www.zillow.com/research/data/) [all homes at a city level](http://files.zillowstatic.com/research/public/City/City_Zhvi_AllHomes.csv), \n",
    "* From the Wikipedia, [university towns in the United States](https://en.wikipedia.org/wiki/List_of_college_towns#College_towns_in_the_United_States)"
   ]
  },
  {
   "cell_type": "code",
   "execution_count": 1,
   "metadata": {},
   "outputs": [],
   "source": [
    "%matplotlib inline\n",
    "import seaborn as sb\n",
    "import matplotlib.pyplot as plt\n",
    "import pandas as pd\n",
    "import numpy as np\n",
    "from scipy.stats import ttest_ind"
   ]
  },
  {
   "cell_type": "markdown",
   "metadata": {},
   "source": [
    "## Helper functions & data cleaning"
   ]
  },
  {
   "cell_type": "code",
   "execution_count": 2,
   "metadata": {},
   "outputs": [],
   "source": [
    "def get_list_of_university_towns():\n",
    "    '''Returns a DataFrame of towns and the states they are in from the \n",
    "    university_towns.txt list. '''\n",
    "\n",
    "    df = (pd.read_table('data/university_towns.txt', header=None) )\n",
    "    states_df= df[(df[0].str.endswith('[edit]'))]\n",
    "    states_df = states_df.applymap(lambda x: str(x).replace('[edit]', ''))\n",
    "    states_l = list(states_df[0])\n",
    "    states_idx = states_df.index\n",
    "    new_idx = [x-i for i,x in enumerate(states_idx)]\n",
    "    states_df = pd.DataFrame(states_l, index=new_idx)\n",
    "    towns_df = df[~(df[0].str.endswith('[edit]'))]\n",
    "    towns_df = towns_df.applymap(lambda x:x.split(\"(\")[0].rstrip())\n",
    "    towns_df = towns_df.reset_index(drop=True)\n",
    "    states_df = states_df.reindex(towns_df.index).ffill()\n",
    "    st_reg_df = pd.concat([states_df, towns_df], axis=1)\n",
    "    st_reg_df.columns = ['State', 'RegionName']\n",
    "    st_reg_df = st_reg_df.set_index([\"State\", \"RegionName\"])\n",
    "    \n",
    "    return st_reg_df\n",
    "#get_list_of_university_towns()"
   ]
  },
  {
   "cell_type": "code",
   "execution_count": 3,
   "metadata": {},
   "outputs": [],
   "source": [
    "# Use this dictionary to map state names to two letter acronyms\n",
    "states = {'OH': 'Ohio', 'KY': 'Kentucky', 'AS': 'American Samoa', 'NV': 'Nevada', 'WY': 'Wyoming', 'NA': 'National', 'AL': 'Alabama', 'MD': 'Maryland', 'AK': 'Alaska', 'UT': 'Utah', 'OR': 'Oregon', 'MT': 'Montana', 'IL': 'Illinois', 'TN': 'Tennessee', 'DC': 'District of Columbia', 'VT': 'Vermont', 'ID': 'Idaho', 'AR': 'Arkansas', 'ME': 'Maine', 'WA': 'Washington', 'HI': 'Hawaii', 'WI': 'Wisconsin', 'MI': 'Michigan', 'IN': 'Indiana', 'NJ': 'New Jersey', 'AZ': 'Arizona', 'GU': 'Guam', 'MS': 'Mississippi', 'PR': 'Puerto Rico', 'NC': 'North Carolina', 'TX': 'Texas', 'SD': 'South Dakota', 'MP': 'Northern Mariana Islands', 'IA': 'Iowa', 'MO': 'Missouri', 'CT': 'Connecticut', 'WV': 'West Virginia', 'SC': 'South Carolina', 'LA': 'Louisiana', 'KS': 'Kansas', 'NY': 'New York', 'NE': 'Nebraska', 'OK': 'Oklahoma', 'FL': 'Florida', 'CA': 'California', 'CO': 'Colorado', 'PA': 'Pennsylvania', 'DE': 'Delaware', 'NM': 'New Mexico', 'RI': 'Rhode Island', 'MN': 'Minnesota', 'VI': 'Virgin Islands', 'NH': 'New Hampshire', 'MA': 'Massachusetts', 'GA': 'Georgia', 'ND': 'North Dakota', 'VA': 'Virginia'}"
   ]
  },
  {
   "cell_type": "code",
   "execution_count": 4,
   "metadata": {},
   "outputs": [],
   "source": [
    "def convert_housing_data_to_quarters():\n",
    "    '''Converts the housing data to quarters and returns it as mean \n",
    "    values in a dataframe.\n",
    "    '''\n",
    "    data = pd.read_csv('data/City_Zhvi_AllHomes.csv')\n",
    "    data.drop(data.columns[[0,3,4,5]], axis=1, inplace=True)\n",
    "    data.drop(data.columns[2:47], axis=1, inplace=True)\n",
    "    data.State = data.State.map(states)\n",
    "    data.set_index(['State', 'RegionName'], inplace=True)\n",
    "    df = data.groupby(pd.PeriodIndex(data.columns, freq='Q'), axis=1).mean()\n",
    "    return df.sort_index()\n",
    "#convert_housing_data_to_quarters()"
   ]
  },
  {
   "cell_type": "code",
   "execution_count": 5,
   "metadata": {},
   "outputs": [
    {
     "data": {
      "text/plain": [
       "(True, 0.002724063704761164, 'university town')"
      ]
     },
     "execution_count": 5,
     "metadata": {},
     "output_type": "execute_result"
    }
   ],
   "source": [
    "def run_ttest():\n",
    "    '''First creates new data showing the decline or growth of housing prices\n",
    "    between the recession start and the recession bottom. Then runs a ttest\n",
    "    comparing the university town values to the non-university towns values, \n",
    "    return whether the alternative hypothesis (that the two groups are the same)\n",
    "    is true or not as well as the p-value of the confidence. \n",
    "    '''\n",
    "    housing = convert_housing_data_to_quarters()\n",
    "    housing.columns = ['2000Q1', '2000Q2', '2000Q3', '2000Q4', '2001Q1', '2001Q2',\n",
    "             '2001Q3', '2001Q4', '2002Q1', '2002Q2', '2002Q3', '2002Q4',\n",
    "             '2003Q1', '2003Q2', '2003Q3', '2003Q4', '2004Q1', '2004Q2',\n",
    "             '2004Q3', '2004Q4', '2005Q1', '2005Q2', '2005Q3', '2005Q4',\n",
    "             '2006Q1', '2006Q2', '2006Q3', '2006Q4', '2007Q1', '2007Q2',\n",
    "             '2007Q3', '2007Q4', '2008Q1', '2008Q2', '2008Q3', '2008Q4',\n",
    "             '2009Q1', '2009Q2', '2009Q3', '2009Q4', '2010Q1', '2010Q2',\n",
    "             '2010Q3', '2010Q4', '2011Q1', '2011Q2', '2011Q3', '2011Q4',\n",
    "             '2012Q1', '2012Q2', '2012Q3', '2012Q4', '2013Q1', '2013Q2',\n",
    "             '2013Q3', '2013Q4', '2014Q1', '2014Q2', '2014Q3', '2014Q4',\n",
    "             '2015Q1', '2015Q2', '2015Q3', '2015Q4', '2016Q1', '2016Q2',\n",
    "             '2016Q3']\n",
    "    q_s_r = '2008q2'.upper()    # recession start\n",
    "    q_b_r = '2009q2'.upper()    # recession bottom\n",
    "    housing = housing[[q_s_r, q_b_r]]\n",
    "    \n",
    "    housing[\"price_ratio\"] = housing[q_s_r].div(housing[q_b_r])\n",
    "    housing = housing.dropna()\n",
    "    ct_h = (pd.merge(get_list_of_university_towns(), housing, how = \"inner\",\n",
    "                                  left_index = True, right_index = True))\n",
    "    non_ct_h = housing[~housing.index.isin(ct_h.index)]\n",
    "    \n",
    "    t_stat, p_value = ttest_ind(ct_h[\"price_ratio\"],\n",
    "                                      non_ct_h[\"price_ratio\"])\n",
    "    if p_value < 0.01:\n",
    "        different = True\n",
    "    else:\n",
    "        different = False\n",
    "    if t_stat < 0:\n",
    "        better = \"university town\"\n",
    "    else:\n",
    "        better = \"non-university town\"\n",
    "    return (different, p_value, better)\n",
    "\n",
    "run_ttest()"
   ]
  },
  {
   "cell_type": "code",
   "execution_count": 6,
   "metadata": {},
   "outputs": [],
   "source": [
    "housing = convert_housing_data_to_quarters()\n",
    "housing.columns = ['2000Q1', '2000Q2', '2000Q3', '2000Q4', '2001Q1', '2001Q2',\n",
    "             '2001Q3', '2001Q4', '2002Q1', '2002Q2', '2002Q3', '2002Q4',\n",
    "             '2003Q1', '2003Q2', '2003Q3', '2003Q4', '2004Q1', '2004Q2',\n",
    "             '2004Q3', '2004Q4', '2005Q1', '2005Q2', '2005Q3', '2005Q4',\n",
    "             '2006Q1', '2006Q2', '2006Q3', '2006Q4', '2007Q1', '2007Q2',\n",
    "             '2007Q3', '2007Q4', '2008Q1', '2008Q2', '2008Q3', '2008Q4',\n",
    "             '2009Q1', '2009Q2', '2009Q3', '2009Q4', '2010Q1', '2010Q2',\n",
    "             '2010Q3', '2010Q4', '2011Q1', '2011Q2', '2011Q3', '2011Q4',\n",
    "             '2012Q1', '2012Q2', '2012Q3', '2012Q4', '2013Q1', '2013Q2',\n",
    "             '2013Q3', '2013Q4', '2014Q1', '2014Q2', '2014Q3', '2014Q4',\n",
    "             '2015Q1', '2015Q2', '2015Q3', '2015Q4', '2016Q1', '2016Q2',\n",
    "             '2016Q3']\n",
    "q_s_r = '2008q2'.upper()\n",
    "q_b_r = '2009q2'.upper()\n",
    "housing = housing[[q_s_r, q_b_r]]\n",
    "housing[\"price_ratio\"] = housing[q_s_r].div(housing[q_b_r])\n",
    "housing = housing.dropna()\n",
    "ct_h = (pd.merge(get_list_of_university_towns(), housing, how = \"inner\",\n",
    "                                  left_index = True, right_index = True))\n",
    "non_ct_h = housing[~housing.index.isin(ct_h.index)]"
   ]
  },
  {
   "cell_type": "code",
   "execution_count": 7,
   "metadata": {},
   "outputs": [
    {
     "data": {
      "image/png": "[encoded data removed]",
      "text/plain": [
       "<Figure size 576x576 with 1 Axes>"
      ]
     },
     "metadata": {
      "needs_background": "light"
     },
     "output_type": "display_data"
    }
   ],
   "source": [
    "plt.figure(figsize=(8,8))\n",
    "plt.hist(ct_h.price_ratio.values, 100 )\n",
    "plt.title('Histogram of average Price Ratio for college towns ($\\mu$={0:.3f}, $\\sigma$={0:.3f})'\n",
    "          .format(np.mean(ct_h.price_ratio.values), np.std(ct_h.price_ratio.values)))\n",
    "plt.ylabel('Frequency')\n",
    "plt.xlabel('mean Price Ratio')\n",
    "plt.show()"
   ]
  },
  {
   "cell_type": "code",
   "execution_count": 8,
   "metadata": {
    "scrolled": true
   },
   "outputs": [
    {
     "data": {
      "image/png": "[encoded data removed]",
      "text/plain": [
       "<Figure size 576x576 with 1 Axes>"
      ]
     },
     "metadata": {
      "needs_background": "light"
     },
     "output_type": "display_data"
    }
   ],
   "source": [
    "plt.figure(figsize=(8,8))\n",
    "plt.hist(non_ct_h.price_ratio.values, 100 )\n",
    "plt.title('Histogram of average Price Ratio for NON-college towns ($\\mu$={0:.3f}, $\\sigma$={0:.3f})'\n",
    "          .format(np.mean(non_ct_h.price_ratio.values), np.std(non_ct_h.price_ratio.values)))\n",
    "plt.ylabel('Frequency')\n",
    "plt.xlabel('mean Price Ratio')\n",
    "plt.show()"
   ]
  }
 ],
 "metadata": {
  "coursera": {
   "course_slug": "python-data-analysis",
   "graded_item_id": "Il9Fx",
   "launcher_item_id": "TeDW0",
   "part_id": "WGlun"
  },
  "kernelspec": {
   "display_name": "Python 3",
   "language": "python",
   "name": "python3"
  },
  "language_info": {
   "codemirror_mode": {
    "name": "ipython",
    "version": 3
   },
   "file_extension": ".py",
   "mimetype": "text/x-python",
   "name": "python",
   "nbconvert_exporter": "python",
   "pygments_lexer": "ipython3",
   "version": "3.7.1"
  }
 },
 "nbformat": 4,
 "nbformat_minor": 1
}
