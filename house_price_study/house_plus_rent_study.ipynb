{
 "cells": [
  {
   "cell_type": "markdown",
   "metadata": {},
   "source": [
    "# Are houses in college towns more recession proof?\n",
    "#### Mo Ghahramani\n",
    "\n",
    "I use this notebook to calculate the average total return on houses, meaning price of the house + rental value.\n",
    "\n",
    "To estimate the average total return on houses, I add the median rental value of houses to the median price of houses for each city for every quarter and calculate the average total return over any time period I want.\n",
    "\n",
    "Data:\n",
    "* From [Zillow research data site,](http://www.zillow.com/research/data/) all homes prices at a city level\n",
    "* From [Zillow research data site,](http://www.zillow.com/research/data/) all homes rental values at a city level"
   ]
  },
  {
   "cell_type": "code",
   "execution_count": 1,
   "metadata": {},
   "outputs": [],
   "source": [
    "%matplotlib inline\n",
    "import seaborn as sb\n",
    "import matplotlib.pyplot as plt\n",
    "import pandas as pd\n",
    "import numpy as np\n",
    "from scipy.stats import ttest_ind"
   ]
  },
  {
   "cell_type": "markdown",
   "metadata": {},
   "source": [
    "## Helper functions & data cleaning"
   ]
  },
  {
   "cell_type": "code",
   "execution_count": 2,
   "metadata": {},
   "outputs": [],
   "source": [
    "# Use this dictionary to map state names to two letter acronyms\n",
    "states = {'OH': 'Ohio', 'KY': 'Kentucky', 'AS': 'American Samoa', 'NV': 'Nevada', 'WY': 'Wyoming', 'NA': 'National', 'AL': 'Alabama', 'MD': 'Maryland', 'AK': 'Alaska', 'UT': 'Utah', 'OR': 'Oregon', 'MT': 'Montana', 'IL': 'Illinois', 'TN': 'Tennessee', 'DC': 'District of Columbia', 'VT': 'Vermont', 'ID': 'Idaho', 'AR': 'Arkansas', 'ME': 'Maine', 'WA': 'Washington', 'HI': 'Hawaii', 'WI': 'Wisconsin', 'MI': 'Michigan', 'IN': 'Indiana', 'NJ': 'New Jersey', 'AZ': 'Arizona', 'GU': 'Guam', 'MS': 'Mississippi', 'PR': 'Puerto Rico', 'NC': 'North Carolina', 'TX': 'Texas', 'SD': 'South Dakota', 'MP': 'Northern Mariana Islands', 'IA': 'Iowa', 'MO': 'Missouri', 'CT': 'Connecticut', 'WV': 'West Virginia', 'SC': 'South Carolina', 'LA': 'Louisiana', 'KS': 'Kansas', 'NY': 'New York', 'NE': 'Nebraska', 'OK': 'Oklahoma', 'FL': 'Florida', 'CA': 'California', 'CO': 'Colorado', 'PA': 'Pennsylvania', 'DE': 'Delaware', 'NM': 'New Mexico', 'RI': 'Rhode Island', 'MN': 'Minnesota', 'VI': 'Virgin Islands', 'NH': 'New Hampshire', 'MA': 'Massachusetts', 'GA': 'Georgia', 'ND': 'North Dakota', 'VA': 'Virginia'}"
   ]
  },
  {
   "cell_type": "code",
   "execution_count": 3,
   "metadata": {},
   "outputs": [],
   "source": [
    "def convert_housing_price_to_quarters():\n",
    "    '''Converts the housing data to quarters and returns it as mean \n",
    "    values in a dataframe.\n",
    "    '''\n",
    "    data = pd.read_csv('data/City_Zhvi_AllHomes_recent.csv', encoding='latin-1')\n",
    "    data.drop(data.columns[[0,3,4,5]], axis=1, inplace=True)\n",
    "    data.drop(data.columns[2:158], axis=1, inplace=True)\n",
    "    data.State = data.State.map(states)\n",
    "    data.set_index(['State', 'RegionName'], inplace=True)\n",
    "    df = data.groupby(pd.PeriodIndex(data.columns, freq='Q'), axis=1).mean()\n",
    "    return df.sort_index()\n",
    "#convert_housing_price_to_quarters().head()"
   ]
  },
  {
   "cell_type": "code",
   "execution_count": 4,
   "metadata": {
    "scrolled": true
   },
   "outputs": [],
   "source": [
    "def convert_housing_rent_to_quarters():\n",
    "    '''Converts the housing data to quarters and returns it as mean \n",
    "    values in a dataframe.\n",
    "    '''\n",
    "    data = pd.read_csv('data/City_Zri_AllHomes_recent_rent.csv', encoding='latin-1')\n",
    "    data.drop(data.columns[[0,3,4,5]], axis=1, inplace=True)\n",
    "#     data.drop(data.columns[2:47], axis=1, inplace=True)\n",
    "    data.State = data.State.map(states)\n",
    "    data.set_index(['State', 'RegionName'], inplace=True)\n",
    "    df = data.groupby(pd.PeriodIndex(data.columns, freq='Q'), axis=1).sum()\n",
    "    # filling in missing quarters with oldest available quarter\n",
    "    for a in pd.PeriodIndex(year=[2009,2009,2009,2010,2010,2010], quarter=[2,3,4,1,2,3]):\n",
    "        df[a] = df['2010Q4']\n",
    "    return df.sort_index()\n",
    "#convert_housing_rent_to_quarters()"
   ]
  },
  {
   "cell_type": "code",
   "execution_count": 5,
   "metadata": {},
   "outputs": [],
   "source": [
    "# Merging Rent & Price dataframes on State/City index\n",
    "df = (pd.merge(convert_housing_price_to_quarters().dropna(), \n",
    "               convert_housing_rent_to_quarters().dropna(), \n",
    "               how='inner', left_index=True, right_index=True))\n",
    "df = df.groupby(lambda x: x.split('_')[0], axis=1).sum()\n",
    "df.columns = pd.period_range(start='2009Q2', end='2018Q4', freq='Q')"
   ]
  },
  {
   "cell_type": "code",
   "execution_count": 6,
   "metadata": {
    "scrolled": false
   },
   "outputs": [],
   "source": [
    "#df.describe()"
   ]
  },
  {
   "cell_type": "code",
   "execution_count": 7,
   "metadata": {},
   "outputs": [
    {
     "name": "stdout",
     "output_type": "stream",
     "text": [
      "Total return on houses from 2009Q2-2018Q4 is 24.572142869434 %\n"
     ]
    },
    {
     "data": {
      "image/png": "[encoded data removed]",
      "text/plain": [
       "<Figure size 648x432 with 1 Axes>"
      ]
     },
     "metadata": {
      "needs_background": "light"
     },
     "output_type": "display_data"
    }
   ],
   "source": [
    "# plotting the results\n",
    "hpr_plot = ((df.mean().pct_change().cumsum()*100)\n",
    "            .plot(figsize=[9,6],\n",
    "            title = 'Average Quarterly Return on houses including rental income from 2009Q2-2018Q4',\n",
    "            grid = True) )\n",
    "hpr_plot.set_xlabel('Date')\n",
    "hpr_plot.set_ylabel('%')\n",
    "print ('Total return on houses from 2009Q2-2018Q4 is',(df.mean().pct_change().cumsum().dropna()*100).max(),'%')"
   ]
  }
 ],
 "metadata": {
  "coursera": {
   "course_slug": "python-data-analysis",
   "graded_item_id": "Il9Fx",
   "launcher_item_id": "TeDW0",
   "part_id": "WGlun"
  },
  "kernelspec": {
   "display_name": "Python 3",
   "language": "python",
   "name": "python3"
  },
  "language_info": {
   "codemirror_mode": {
    "name": "ipython",
    "version": 3
   },
   "file_extension": ".py",
   "mimetype": "text/x-python",
   "name": "python",
   "nbconvert_exporter": "python",
   "pygments_lexer": "ipython3",
   "version": "3.7.1"
  }
 },
 "nbformat": 4,
 "nbformat_minor": 1
}
